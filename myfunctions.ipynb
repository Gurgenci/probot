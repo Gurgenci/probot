{
 "cells": [
  {
   "cell_type": "markdown",
   "metadata": {},
   "source": [
    "# My Functions #"
   ]
  },
  {
   "cell_type": "code",
   "execution_count": 4,
   "metadata": {},
   "outputs": [],
   "source": [
    "from IPython.display import display, Markdown\n",
    "def md(s):\n",
    "    display(Markdown(s))"
   ]
  },
  {
   "cell_type": "code",
   "execution_count": 5,
   "metadata": {},
   "outputs": [
    {
     "name": "stdout",
     "output_type": "stream",
     "text": [
      "Note: you may need to restart the kernel to use updated packages.\n",
      "Collecting requests\n",
      "  Using cached requests-2.31.0-py3-none-any.whl.metadata (4.6 kB)\n",
      "Collecting charset-normalizer<4,>=2 (from requests)\n",
      "  Using cached charset_normalizer-3.3.2-cp311-cp311-macosx_11_0_arm64.whl.metadata (33 kB)\n",
      "Requirement already satisfied: idna<4,>=2.5 in ./.venv/lib/python3.11/site-packages (from requests) (3.6)\n",
      "Collecting urllib3<3,>=1.21.1 (from requests)\n",
      "  Downloading urllib3-2.1.0-py3-none-any.whl.metadata (6.4 kB)\n",
      "Requirement already satisfied: certifi>=2017.4.17 in ./.venv/lib/python3.11/site-packages (from requests) (2023.11.17)\n",
      "Using cached requests-2.31.0-py3-none-any.whl (62 kB)\n",
      "Using cached charset_normalizer-3.3.2-cp311-cp311-macosx_11_0_arm64.whl (118 kB)\n",
      "Downloading urllib3-2.1.0-py3-none-any.whl (104 kB)\n",
      "\u001b[2K   \u001b[90m━━━━━━━━━━━━━━━━━━━━━━━━━━━━━━━━━━━━━━━━\u001b[0m \u001b[32m104.6/104.6 kB\u001b[0m \u001b[31m2.9 MB/s\u001b[0m eta \u001b[36m0:00:00\u001b[0m\n",
      "\u001b[?25hInstalling collected packages: urllib3, charset-normalizer, requests\n",
      "Successfully installed charset-normalizer-3.3.2 requests-2.31.0 urllib3-2.1.0\n",
      "Note: you may need to restart the kernel to use updated packages.\n"
     ]
    }
   ],
   "source": [
    "%pip install --q --upgrade bs4\n",
    "%pip install requests"
   ]
  },
  {
   "cell_type": "code",
   "execution_count": 8,
   "metadata": {},
   "outputs": [],
   "source": [
    "import requests\n",
    "from bs4 import BeautifulSoup\n",
    "\n",
    "def rdweb(url, s1, s2, filename):\n",
    "    # get the webpage content\n",
    "    response = requests.get(url)\n",
    "    soup = BeautifulSoup(response.content, 'html.parser')\n",
    "    # remove all html tags and other non-text characters\n",
    "    text = soup.get_text()\n",
    "    # find the section between the strings s1 and s2\n",
    "    start_index = text.find(s1) + len(s1)\n",
    "    end_index = text.find(s2)\n",
    "    result = text[start_index:end_index]\n",
    "    # save the result in the specified file\n",
    "    with open(filename, 'w') as f:\n",
    "        f.write(result)\n",
    "(url1, filename1)=\"https://halimgur.substack.com/p/why-did-elon-musk-buy-twitter\", \"elon.txt\"\n",
    "(url2, filename2)=\"https://halimgur.substack.com/p/why-were-so-many-buildings-destroyed\", \"buildings.txt\"\n",
    "(url3, filename3)=\"https://halimgur.substack.com/publish/post/106705925\", \"pascal.txt\"\n",
    "sbegin=\"-+-+-+-+\"\n",
    "send=\"._._._._\"\n",
    "rdweb(url3, sbegin, send, filename3)\n"
   ]
  },
  {
   "cell_type": "code",
   "execution_count": 9,
   "metadata": {},
   "outputs": [
    {
     "name": "stdout",
     "output_type": "stream",
     "text": [
      "MD.write('In this notebook, I will explain what em\n",
      "beddings are and make some observations about embe\n",
      "ddings. I will use OpenAI API to generate embeddin\n",
      "gs. To run this notebook you need to have an OpenA\n",
      "I account.  I showed how to get an OpenAI account \n",
      "in the previous notebook.')\n"
     ]
    }
   ],
   "source": [
    "def mdwrite(s, n):\n",
    "    line = \"MD.write('\" + s + \"')\"\n",
    "    for i in range(0, len(line), n):\n",
    "        print(line[i:i+n])\n",
    "s=\"In this notebook, I will explain what embeddings are and make some observations about embeddings. I will use OpenAI API to generate embeddings. To run this notebook \\\n",
    "you need to have an OpenAI account.  I showed how to get an OpenAI account in the previous notebook.\"\n",
    "mdwrite(s, 50)"
   ]
  }
 ],
 "metadata": {
  "kernelspec": {
   "display_name": ".venv",
   "language": "python",
   "name": "python3"
  },
  "language_info": {
   "codemirror_mode": {
    "name": "ipython",
    "version": 3
   },
   "file_extension": ".py",
   "mimetype": "text/x-python",
   "name": "python",
   "nbconvert_exporter": "python",
   "pygments_lexer": "ipython3",
   "version": "3.11.1"
  }
 },
 "nbformat": 4,
 "nbformat_minor": 2
}
