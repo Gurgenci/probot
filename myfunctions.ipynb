{
 "cells": [
  {
   "cell_type": "markdown",
   "metadata": {},
   "source": [
    "# My Functions #"
   ]
  },
  {
   "cell_type": "code",
   "execution_count": 4,
   "metadata": {},
   "outputs": [],
   "source": [
    "from IPython.display import display, Markdown\n",
    "def md(s):\n",
    "    display(Markdown(s))"
   ]
  },
  {
   "cell_type": "code",
   "execution_count": 2,
   "metadata": {},
   "outputs": [
    {
     "name": "stdout",
     "output_type": "stream",
     "text": [
      "Note: you may need to restart the kernel to use updated packages.\n"
     ]
    }
   ],
   "source": [
    "%pip install --q --upgrade bs4"
   ]
  },
  {
   "cell_type": "code",
   "execution_count": 6,
   "metadata": {},
   "outputs": [],
   "source": [
    "import requests\n",
    "from bs4 import BeautifulSoup\n",
    "\n",
    "def rdweb(url, s1, s2, filename):\n",
    "    # get the webpage content\n",
    "    response = requests.get(url)\n",
    "    soup = BeautifulSoup(response.content, 'html.parser')\n",
    "    # remove all html tags and other non-text characters\n",
    "    text = soup.get_text()\n",
    "    # find the section between the strings s1 and s2\n",
    "    start_index = text.find(s1) + len(s1)\n",
    "    end_index = text.find(s2)\n",
    "    result = text[start_index:end_index]\n",
    "    # save the result in the specified file\n",
    "    with open(filename, 'w') as f:\n",
    "        f.write(result)\n",
    "url=\"https://halimgur.substack.com/p/why-did-elon-musk-buy-twitter\"\n",
    "s1=\"-+-+-+-+\"\n",
    "s2=\"._._._._\"\n",
    "filename=\"elon.txt\"\n",
    "rdweb(url, s1, s2, filename)\n"
   ]
  },
  {
   "cell_type": "code",
   "execution_count": null,
   "metadata": {},
   "outputs": [],
   "source": []
  }
 ],
 "metadata": {
  "kernelspec": {
   "display_name": ".venv",
   "language": "python",
   "name": "python3"
  },
  "language_info": {
   "codemirror_mode": {
    "name": "ipython",
    "version": 3
   },
   "file_extension": ".py",
   "mimetype": "text/x-python",
   "name": "python",
   "nbconvert_exporter": "python",
   "pygments_lexer": "ipython3",
   "version": "3.11.1"
  }
 },
 "nbformat": 4,
 "nbformat_minor": 2
}
