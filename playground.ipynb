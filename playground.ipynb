{
 "cells": [
  {
   "cell_type": "code",
   "execution_count": 1,
   "metadata": {},
   "outputs": [],
   "source": [
    "import os\n",
    "import openai\n",
    "import time\n",
    "from openai import OpenAI\n",
    "from dotenv import load_dotenv\n",
    "load_dotenv()\n",
    "import numpy as np\n",
    "\n"
   ]
  },
  {
   "cell_type": "markdown",
   "metadata": {},
   "source": [
    "#### `pr_objfields(obj)` ####\n",
    "For example, `pr_objfields(runs)` to all three run objects and their contents."
   ]
  },
  {
   "cell_type": "code",
   "execution_count": 2,
   "metadata": {},
   "outputs": [],
   "source": [
    "# The following function prints the fields of an object (e.g. a message)\n",
    "# If the field itself is another class, then it prints its fields as well \n",
    "# on separate lines intended by 4 spaces\n",
    "def pr_objfields(obj):\n",
    "    for field in obj:\n",
    "        print(field)\n",
    "        if isinstance(field, object):\n",
    "            for subfield in field:\n",
    "                print(\"------>\", subfield) \n",
    "# It is however easier to use the VS Code Debugger to inspect the object\n",
    "# When using the debugger, it is easier if I do things in separate functions so that\n",
    "# the scope is limited ot the variables in that function\n",
    "\n",
    "# Time stamp to local time\n",
    "def ts2lt(ts):\n",
    "    return time.strftime('%Y-%m-%d %H:%M:%S', time.localtime(ts))\n"
   ]
  },
  {
   "cell_type": "code",
   "execution_count": 3,
   "metadata": {},
   "outputs": [],
   "source": [
    "from IPython.display import Markdown\n",
    "\n",
    "def md_custom(text, size=12):\n",
    "    return Markdown(f\"<span style='font-size: {size}px;'>{text}</span>\")\n",
    "\n",
    "# Usage\n",
    "# display(md_custom(\"This is some text with a larger font size.\", size=18))\n",
    "def mdc(s, size=14):\n",
    "    display(md_custom(s, size))"
   ]
  },
  {
   "cell_type": "markdown",
   "metadata": {},
   "source": [
    "## Playground Execution ##\n",
    "I try a thread of questions and answers on Playground.  I will set the Playground up exactly the same way as I did in the `qa.ipynb` of [the last post](https://halimgur.substack.com/p/qanda).\n",
    "\n",
    "![alt text](/Users/Halim/git/probot/pics/Assistant_for_General.jpg \"\")\n",
    "\n",
    "The above is a screendump from https://platform.openai.com/assistants. Click on the Assistant name to open it as follows:\n",
    "\n",
    "![alt text](pics/Assistant_Summary.jpg \"\")\n",
    "\n",
    "\n",
    "When I asked the question \"**What is the local government debt in China?**\", the notebook `qa.ipynb` identified the following three pages as most relevant:\n",
    "\n",
    "|itext|similarity|title|\n",
    "|--|--|--|\n",
    "|33|0.930614|Retirement: A Journey of Continued Relevance and Learning|\n",
    "|20|0.816555|Will there be a war?|\n",
    "|10|0.785798|ROGUE - Renaissance on globe with upheavals everywhere|\n",
    "\n",
    "I added those three files to the \"Assistant for general\" [in the Playground](https://platform.openai.com/playground?mode=assistant&assistant=asst_LCdnKNcUtkxVg1aDoiQ9vHCX):\n",
    "\n",
    "![alt text](pics/playground_start.jpg \"\")\n",
    "\n",
    "I will now start the Thread with my first question, which is \"What is the local government debt in China?\". Since the relevant file has already been identified and uploaded, the Playground Assistant produces the following answer:\n",
    "\n",
    ">In 2020, analysis by Professor Li and his PhD student estimated that China's local government debt approached 90 trillion yuan (12.49 trillion U.S. dollars), which was about 88% of the GDP at that time. This figure is significantly higher than the estimates typically provided by organizations like the International Monetary Fund or the World Bank, which usually place it around 60 trillion yuan (8.33 trillion U.S. dollars), approximately 50% of the GDP【11†source】.\n",
    "\n",
    "My next question is \"**Who is Professor Li?**\" and the Assistant produces the following question in the Playground:\n",
    "\n",
    ">Professor Li, referred to in the debt analysis, is Professor David Daokui Li, who holds the Mansfield Freeman Chair of the Department of Finance of the School of Economics and Management at Tsinghua University【16†source】.\n",
    "\n",
    "![alt text](pics/playground_q2.jpg \"\")\n",
    "\n",
    "I then asked the question \"**How does this debt number compare against typical salaries in China?**\".  I thought I was pushing my luck with this question but the Assistant gave a good answer on the Playground:\n",
    "\n",
    ">The local government debt per person in China was estimated at 75,000 yuan, which was mentioned to be the annual salary of a typical young mechanical engineer in Luoyang in 2019【21†source】. This suggests that the debt per capita is roughly equivalent to a year's salary for a young professional in that region.\n",
    "\n",
    "![alt text](pics/playground_q3.jpg \"\")\n",
    "\n",
    "Let us stop here. This seems to be working but when I tried to do the same by calls to the API through my python program instead of using the playground, the performance was quite poor. \n",
    "\n",
    "This suggests that the Assistant prompts and other calls to the model in Playground are different from what I did in `qa.ipynb`.  In this notebook, I will try to understand how the Assistant talks to the LLM in the Playground and compare it to how I make it talk in my program.  The differences should be instructive."
   ]
  },
  {
   "cell_type": "code",
   "execution_count": 4,
   "metadata": {},
   "outputs": [],
   "source": [
    "%run ./globals.py\n",
    "# md(showglobals())"
   ]
  },
  {
   "cell_type": "markdown",
   "metadata": {},
   "source": [
    "## Playground Assistant ##\n",
    "The ID of the Playground Assistant is given on the Playground screen.  I copied and pasted it from the Playground screen"
   ]
  },
  {
   "cell_type": "code",
   "execution_count": 5,
   "metadata": {},
   "outputs": [],
   "source": [
    "Assistant_ID=\"asst_LCdnKNcUtkxVg1aDoiQ9vHCX\""
   ]
  },
  {
   "cell_type": "markdown",
   "metadata": {},
   "source": [
    "This should be the same Assistant that I created in `qa.ipynb`. Let us confirm this is the case by retrieving the name if the `qa.ipynb` assistant from where we saved it on the local disk:"
   ]
  },
  {
   "cell_type": "code",
   "execution_count": 6,
   "metadata": {},
   "outputs": [
    {
     "data": {
      "text/markdown": [
       "<span style='font-size: 14px;'>\n",
       "\n",
       "|Assistant|ID|\n",
       "|---|---|\n",
       "Playground screen|asst_LCdnKNcUtkxVg1aDoiQ9vHCX|\n",
       "|in data/general/data.txt|asst_LCdnKNcUtkxVg1aDoiQ9vHCX|\n",
       "\n",
       "</span>"
      ],
      "text/plain": [
       "<IPython.core.display.Markdown object>"
      ]
     },
     "metadata": {},
     "output_type": "display_data"
    },
    {
     "data": {
      "text/markdown": [
       "<span style='font-size: 14px;'>\n",
       "\n",
       "They are the same since I have not changed the Assistant ID in the Playground screen.\n",
       "\n",
       "</span>"
      ],
      "text/plain": [
       "<IPython.core.display.Markdown object>"
      ]
     },
     "metadata": {},
     "output_type": "display_data"
    }
   ],
   "source": [
    "from ute import getassid, init_openai\n",
    "qass=getassid(DataFile)\n",
    "s=\"\\n\\n|Assistant|ID|\\n|---|---|\\nPlayground screen|%s|\\n|in %s|%s|\\n\\n\"\\\n",
    "    %(Assistant_ID, DataFile, qass)\n",
    "mdc(s, size=14)\n",
    "#\n",
    "mdc(\"\\n\\nThey are the same since I have not changed the Assistant ID in the Playground screen.\\n\\n\")"
   ]
  },
  {
   "cell_type": "markdown",
   "metadata": {},
   "source": [
    "## Playground Thread ##\n",
    "The Thread ID is displayed at the top of the column where the User/Assistant conversation is printed.  I copy and paste the thread ID into `Thread_ID`:"
   ]
  },
  {
   "cell_type": "code",
   "execution_count": 7,
   "metadata": {},
   "outputs": [
    {
     "data": {
      "text/markdown": [
       "<span style='font-size: 14px;'>`Thread ID`='thread_nPbJmSWtwS4umNYBNqrkGoLy'\n",
       "\n",
       "</span>"
      ],
      "text/plain": [
       "<IPython.core.display.Markdown object>"
      ]
     },
     "metadata": {},
     "output_type": "display_data"
    }
   ],
   "source": [
    "Thread_ID=\"thread_nPbJmSWtwS4umNYBNqrkGoLy\"\n",
    "mdc(\"`Thread ID`='%s'\\n\\n\"%Thread_ID)"
   ]
  },
  {
   "cell_type": "markdown",
   "metadata": {},
   "source": [
    "A `Thread` is of course a thread of messages exchanged between the user and the OpenAI Assistant.  OpenAI portal keeps all interactions for a time, which I believe to be one month but I am not sure.  The messages however belong to the user so I need to establish my credentials using my OpenAI identity:"
   ]
  },
  {
   "cell_type": "code",
   "execution_count": 8,
   "metadata": {},
   "outputs": [],
   "source": [
    "(Client, LLM)=init_openai(model=\"gpt-4-1106-preview\")"
   ]
  },
  {
   "cell_type": "markdown",
   "metadata": {},
   "source": [
    "Note that the `Thread` object itseld does not have a `Messages` field.  The following retrieves the Playground thread."
   ]
  },
  {
   "cell_type": "code",
   "execution_count": 9,
   "metadata": {},
   "outputs": [],
   "source": [
    "t = Client.beta.threads.retrieve(Thread_ID)"
   ]
  },
  {
   "cell_type": "markdown",
   "metadata": {},
   "source": [
    "The Thread record has only three fields.  The following tabulates the values of these fields:"
   ]
  },
  {
   "cell_type": "code",
   "execution_count": 10,
   "metadata": {},
   "outputs": [
    {
     "data": {
      "text/markdown": [
       "<span style='font-size: 14px;'>\n",
       "\n",
       "|Attribute|Value|\n",
       "|---|---|\n",
       "|ID|`thread_nPbJmSWtwS4umNYBNqrkGoLy`|\n",
       "|Created|`2024-01-19 17:13:38`|\n",
       "|Object name|`thread`|\n",
       "</span>"
      ],
      "text/plain": [
       "<IPython.core.display.Markdown object>"
      ]
     },
     "metadata": {},
     "output_type": "display_data"
    },
    {
     "data": {
      "text/markdown": [
       "<span style='font-size: 14px;'>\n",
       "\n",
       "</span>"
      ],
      "text/plain": [
       "<IPython.core.display.Markdown object>"
      ]
     },
     "metadata": {},
     "output_type": "display_data"
    }
   ],
   "source": [
    "s=\"\\n\\n|Attribute|Value|\\n|---|---|\\n\"\n",
    "s+=\"|ID|`%s`|\\n\"%t.id\n",
    "s+=\"|Created|`%s`|\\n\"%(ts2lt(t.created_at))\n",
    "s+=\"|Object name|`%s`|\\n\"%t.object\n",
    "mdc(s, size=14)\n",
    "mdc(\"\\n\\n\")"
   ]
  },
  {
   "cell_type": "markdown",
   "metadata": {},
   "source": [
    "The messages are not stored in the thread but they are associated with the thread and you need to know the Thread ID to retrieve the message history.  This is what I do below.\n",
    "\n",
    "The type for `thread_messages` is `<class 'openai.pagination.SyncCursorPage[ThreadMessage]>`.  A `SynCursorPage` object is iterable but does not have a length and we cannot address its members by an index,i.e. it is not subscriptable.  Since this is a very small example, there is hardly a performance penalty in converting it to a `list`.  This is what I do first after I retrieve the messages:"
   ]
  },
  {
   "cell_type": "code",
   "execution_count": 11,
   "metadata": {},
   "outputs": [
    {
     "data": {
      "text/markdown": [
       "<span style='font-size: 14px;'>\n",
       "\n",
       "The following shows the fields of the six messages belonging to this thread. The messages are ordered in reverse. The last message is the initial question.  The second last message is the OpenAI answer to this question.</span>"
      ],
      "text/plain": [
       "<IPython.core.display.Markdown object>"
      ]
     },
     "metadata": {},
     "output_type": "display_data"
    },
    {
     "data": {
      "text/markdown": [
       "<span style='font-size: 14px;'>\n",
       "\n",
       "#### Message 0 ####\n",
       "\n",
       "</span>"
      ],
      "text/plain": [
       "<IPython.core.display.Markdown object>"
      ]
     },
     "metadata": {},
     "output_type": "display_data"
    },
    {
     "data": {
      "text/markdown": [
       "<span style='font-size: 14px;'>\n",
       "\n",
       "|Attribute|Value|\n",
       "|---|---|\n",
       "|ID|`msg_FCWRhMvCELcmeC7SSG8eGX5a`|\n",
       "|Created|`2024-01-19 17:20:41`|\n",
       "|Object name|`thread.message`|\n",
       "|assistant_id|`asst_LCdnKNcUtkxVg1aDoiQ9vHCX`|\n",
       "|thread_id|`thread_nPbJmSWtwS4umNYBNqrkGoLy`|\n",
       "|run_id|`run_F9wljGwD4VMTGv3mXgBwZTVi`|\n",
       "|file_ids|`[]`|\n",
       "|role|`assistant`|\n",
       "|content|`[MessageContentText(text=Text(annotations=[], value=\"The local government debt per person in China was estimated at 75,000 yuan, which was mentioned to be the annual salary of a typical young mechanical engineer in Luoyang in 2019【21†source】. This suggests that the debt per capita is roughly equivalent to a year's salary for a young professional in that region.\"), type='text')]`|\n",
       "</span>"
      ],
      "text/plain": [
       "<IPython.core.display.Markdown object>"
      ]
     },
     "metadata": {},
     "output_type": "display_data"
    },
    {
     "data": {
      "text/markdown": [
       "<span style='font-size: 14px;'>\n",
       "\n",
       "</span>"
      ],
      "text/plain": [
       "<IPython.core.display.Markdown object>"
      ]
     },
     "metadata": {},
     "output_type": "display_data"
    },
    {
     "data": {
      "text/markdown": [
       "<span style='font-size: 14px;'>\n",
       "\n",
       "#### Message 1 ####\n",
       "\n",
       "</span>"
      ],
      "text/plain": [
       "<IPython.core.display.Markdown object>"
      ]
     },
     "metadata": {},
     "output_type": "display_data"
    },
    {
     "data": {
      "text/markdown": [
       "<span style='font-size: 14px;'>\n",
       "\n",
       "|Attribute|Value|\n",
       "|---|---|\n",
       "|ID|`msg_Cti97CJOjdXLr9Zg58LVgZ5R`|\n",
       "|Created|`2024-01-19 17:20:30`|\n",
       "|Object name|`thread.message`|\n",
       "|assistant_id|`None`|\n",
       "|thread_id|`thread_nPbJmSWtwS4umNYBNqrkGoLy`|\n",
       "|run_id|`None`|\n",
       "|file_ids|`[]`|\n",
       "|role|`user`|\n",
       "|content|`[MessageContentText(text=Text(annotations=[], value='How does this debt number compare against typical salaries in China?'), type='text')]`|\n",
       "</span>"
      ],
      "text/plain": [
       "<IPython.core.display.Markdown object>"
      ]
     },
     "metadata": {},
     "output_type": "display_data"
    },
    {
     "data": {
      "text/markdown": [
       "<span style='font-size: 14px;'>\n",
       "\n",
       "</span>"
      ],
      "text/plain": [
       "<IPython.core.display.Markdown object>"
      ]
     },
     "metadata": {},
     "output_type": "display_data"
    },
    {
     "data": {
      "text/markdown": [
       "<span style='font-size: 14px;'>\n",
       "\n",
       "#### Message 2 ####\n",
       "\n",
       "</span>"
      ],
      "text/plain": [
       "<IPython.core.display.Markdown object>"
      ]
     },
     "metadata": {},
     "output_type": "display_data"
    },
    {
     "data": {
      "text/markdown": [
       "<span style='font-size: 14px;'>\n",
       "\n",
       "|Attribute|Value|\n",
       "|---|---|\n",
       "|ID|`msg_4EDhkx9NnIbqxJWEkJWoXTDd`|\n",
       "|Created|`2024-01-19 17:16:26`|\n",
       "|Object name|`thread.message`|\n",
       "|assistant_id|`asst_LCdnKNcUtkxVg1aDoiQ9vHCX`|\n",
       "|thread_id|`thread_nPbJmSWtwS4umNYBNqrkGoLy`|\n",
       "|run_id|`run_Ld7XKFuNMbFNRCSNZ0lXbWFh`|\n",
       "|file_ids|`[]`|\n",
       "|role|`assistant`|\n",
       "|content|`[MessageContentText(text=Text(annotations=[], value='Professor Li, referred to in the debt analysis, is Professor David Daokui Li, who holds the Mansfield Freeman Chair of the Department of Finance of the School of Economics and Management at Tsinghua University【16†source】.'), type='text')]`|\n",
       "</span>"
      ],
      "text/plain": [
       "<IPython.core.display.Markdown object>"
      ]
     },
     "metadata": {},
     "output_type": "display_data"
    },
    {
     "data": {
      "text/markdown": [
       "<span style='font-size: 14px;'>\n",
       "\n",
       "</span>"
      ],
      "text/plain": [
       "<IPython.core.display.Markdown object>"
      ]
     },
     "metadata": {},
     "output_type": "display_data"
    },
    {
     "data": {
      "text/markdown": [
       "<span style='font-size: 14px;'>\n",
       "\n",
       "#### Message 3 ####\n",
       "\n",
       "</span>"
      ],
      "text/plain": [
       "<IPython.core.display.Markdown object>"
      ]
     },
     "metadata": {},
     "output_type": "display_data"
    },
    {
     "data": {
      "text/markdown": [
       "<span style='font-size: 14px;'>\n",
       "\n",
       "|Attribute|Value|\n",
       "|---|---|\n",
       "|ID|`msg_VAWfKppInPeKQzoosBDBvgwq`|\n",
       "|Created|`2024-01-19 17:16:18`|\n",
       "|Object name|`thread.message`|\n",
       "|assistant_id|`None`|\n",
       "|thread_id|`thread_nPbJmSWtwS4umNYBNqrkGoLy`|\n",
       "|run_id|`None`|\n",
       "|file_ids|`[]`|\n",
       "|role|`user`|\n",
       "|content|`[MessageContentText(text=Text(annotations=[], value='Who is Professor Li?'), type='text')]`|\n",
       "</span>"
      ],
      "text/plain": [
       "<IPython.core.display.Markdown object>"
      ]
     },
     "metadata": {},
     "output_type": "display_data"
    },
    {
     "data": {
      "text/markdown": [
       "<span style='font-size: 14px;'>\n",
       "\n",
       "</span>"
      ],
      "text/plain": [
       "<IPython.core.display.Markdown object>"
      ]
     },
     "metadata": {},
     "output_type": "display_data"
    },
    {
     "data": {
      "text/markdown": [
       "<span style='font-size: 14px;'>\n",
       "\n",
       "#### Message 4 ####\n",
       "\n",
       "</span>"
      ],
      "text/plain": [
       "<IPython.core.display.Markdown object>"
      ]
     },
     "metadata": {},
     "output_type": "display_data"
    },
    {
     "data": {
      "text/markdown": [
       "<span style='font-size: 14px;'>\n",
       "\n",
       "|Attribute|Value|\n",
       "|---|---|\n",
       "|ID|`msg_tvWcVSuSNs3bVYnW72yMxvLx`|\n",
       "|Created|`2024-01-19 17:13:51`|\n",
       "|Object name|`thread.message`|\n",
       "|assistant_id|`asst_LCdnKNcUtkxVg1aDoiQ9vHCX`|\n",
       "|thread_id|`thread_nPbJmSWtwS4umNYBNqrkGoLy`|\n",
       "|run_id|`run_LGBgHiDIt5XXMhkDkA8zfPQI`|\n",
       "|file_ids|`[]`|\n",
       "|role|`assistant`|\n",
       "|content|`[MessageContentText(text=Text(annotations=[], value=\"In 2020, analysis by Professor Li and his PhD student estimated that China's local government debt approached 90 trillion yuan (12.49 trillion U.S. dollars), which was about 88% of the GDP at that time. This figure is significantly higher than the estimates typically provided by organizations like the International Monetary Fund or the World Bank, which usually place it around 60 trillion yuan (8.33 trillion U.S. dollars), approximately 50% of the GDP【11†source】.\"), type='text')]`|\n",
       "</span>"
      ],
      "text/plain": [
       "<IPython.core.display.Markdown object>"
      ]
     },
     "metadata": {},
     "output_type": "display_data"
    },
    {
     "data": {
      "text/markdown": [
       "<span style='font-size: 14px;'>\n",
       "\n",
       "</span>"
      ],
      "text/plain": [
       "<IPython.core.display.Markdown object>"
      ]
     },
     "metadata": {},
     "output_type": "display_data"
    },
    {
     "data": {
      "text/markdown": [
       "<span style='font-size: 14px;'>\n",
       "\n",
       "#### Message 5 ####\n",
       "\n",
       "</span>"
      ],
      "text/plain": [
       "<IPython.core.display.Markdown object>"
      ]
     },
     "metadata": {},
     "output_type": "display_data"
    },
    {
     "data": {
      "text/markdown": [
       "<span style='font-size: 14px;'>\n",
       "\n",
       "|Attribute|Value|\n",
       "|---|---|\n",
       "|ID|`msg_patD069uJnyIpkZKD6eOwgWo`|\n",
       "|Created|`2024-01-19 17:13:39`|\n",
       "|Object name|`thread.message`|\n",
       "|assistant_id|`None`|\n",
       "|thread_id|`thread_nPbJmSWtwS4umNYBNqrkGoLy`|\n",
       "|run_id|`None`|\n",
       "|file_ids|`[]`|\n",
       "|role|`user`|\n",
       "|content|`[MessageContentText(text=Text(annotations=[], value='What is the local government debt in China?'), type='text')]`|\n",
       "</span>"
      ],
      "text/plain": [
       "<IPython.core.display.Markdown object>"
      ]
     },
     "metadata": {},
     "output_type": "display_data"
    },
    {
     "data": {
      "text/markdown": [
       "<span style='font-size: 14px;'>\n",
       "\n",
       "</span>"
      ],
      "text/plain": [
       "<IPython.core.display.Markdown object>"
      ]
     },
     "metadata": {},
     "output_type": "display_data"
    }
   ],
   "source": [
    "\n",
    "thread_messages = Client.beta.threads.messages.list(Thread_ID)\n",
    "message_list=list(thread_messages)\n",
    "# print(thread_messages.data)\n",
    "# pr_objfields(thread_messages)\n",
    "\n",
    "def tabulate_message(i):\n",
    "    message=message_list[i]\n",
    "    s=\"\\n\\n|Attribute|Value|\\n|---|---|\\n\"\n",
    "    s+=\"|ID|`%s`|\\n\"%message.id\n",
    "    s+=\"|Created|`%s`|\\n\"%(ts2lt(message.created_at))\n",
    "    s+=\"|Object name|`%s`|\\n\"%message.object\n",
    "    s+=\"|assistant_id|`%s`|\\n\"%message.assistant_id\n",
    "    s+=\"|thread_id|`%s`|\\n\"%message.thread_id\n",
    "    s+=\"|run_id|`%s`|\\n\"%message.run_id\n",
    "    s+=\"|file_ids|`%s`|\\n\"%message.file_ids\n",
    "    s+=\"|role|`%s`|\\n\"%message.role\n",
    "    s+=\"|content|`%s`|\\n\"%message.content\n",
    "    mdc(s)\n",
    "    mdc(\"\\n\\n\")\n",
    "\n",
    "mdc(\"\\n\\nThe following shows the fields of the six messages belonging to this thread. The messages are \\\n",
    "ordered in reverse. The last message \\\n",
    "is the initial question.  The second last message is the OpenAI answer to this question.\")\n",
    "\n",
    "for i in range(len(message_list)):\n",
    "    mdc(\"\\n\\n#### Message %d ####\\n\\n\"%i)\n",
    "    tabulate_message(i)"
   ]
  },
  {
   "cell_type": "code",
   "execution_count": 12,
   "metadata": {},
   "outputs": [
    {
     "data": {
      "text/markdown": [
       "<span style='font-size: 14px;'>There are 3 interactions in this thread.\n",
       "\n",
       "* 3 questions\n",
       "* 3 answers\n",
       "\n",
       "</span>"
      ],
      "text/plain": [
       "<IPython.core.display.Markdown object>"
      ]
     },
     "metadata": {},
     "output_type": "display_data"
    },
    {
     "data": {
      "text/markdown": [
       "<span style='font-size: 14px;'>I will tabulate them in a table.\n",
       "\n",
       "</span>"
      ],
      "text/plain": [
       "<IPython.core.display.Markdown object>"
      ]
     },
     "metadata": {},
     "output_type": "display_data"
    },
    {
     "data": {
      "text/markdown": [
       "<span style='font-size: 14px;'>\n",
       "\n",
       "|Index|Question|Answer|\n",
       "|---|---|---|\n",
       "|0|How does this debt number compare against typical salaries in China?|The local government debt per person in China was estimated at 75,000 yuan, which was mentioned to be the annual salary of a typical young mechanical engineer in Luoyang in 2019【21†source】. This suggests that the debt per capita is roughly equivalent to a year's salary for a young professional in that region.|\n",
       "|1|Who is Professor Li?|Professor Li, referred to in the debt analysis, is Professor David Daokui Li, who holds the Mansfield Freeman Chair of the Department of Finance of the School of Economics and Management at Tsinghua University【16†source】.|\n",
       "|2|What is the local government debt in China?|In 2020, analysis by Professor Li and his PhD student estimated that China's local government debt approached 90 trillion yuan (12.49 trillion U.S. dollars), which was about 88% of the GDP at that time. This figure is significantly higher than the estimates typically provided by organizations like the International Monetary Fund or the World Bank, which usually place it around 60 trillion yuan (8.33 trillion U.S. dollars), approximately 50% of the GDP【11†source】.|\n",
       "</span>"
      ],
      "text/plain": [
       "<IPython.core.display.Markdown object>"
      ]
     },
     "metadata": {},
     "output_type": "display_data"
    },
    {
     "data": {
      "text/markdown": [
       "<span style='font-size: 14px;'>\n",
       "\n",
       "</span>"
      ],
      "text/plain": [
       "<IPython.core.display.Markdown object>"
      ]
     },
     "metadata": {},
     "output_type": "display_data"
    },
    {
     "data": {
      "text/markdown": [
       "<span style='font-size: 14px;'>I printed them in the order they are stored in the thread. The first Q&A is at the bottom and the last Q&A is at the top\n",
       "\n",
       "</span>"
      ],
      "text/plain": [
       "<IPython.core.display.Markdown object>"
      ]
     },
     "metadata": {},
     "output_type": "display_data"
    }
   ],
   "source": [
    "def messagetext(messages, i):\n",
    "    return messages.data[i].content[0].text.value\n",
    "messages=Client.beta.threads.messages.list(Thread_ID)\n",
    "m=int(len(messages.data)/2)\n",
    "mdc(\"There are %d interactions in this thread.\\n\\n* %d questions\\n* %d answers\\n\\n\"%(m, m, m))\n",
    "mdc(\"I will tabulate them in a table.\\n\\n\")\n",
    "s=\"\\n\\n|Index|Question|Answer|\\n|---|---|---|\\n\"\n",
    "for i in range(m):\n",
    "    j=2*i\n",
    "    s+=\"|%d\"%i\n",
    "    s+=\"|%s\"%messagetext(messages, j+1)\n",
    "    s+=\"|%s|\\n\"%messagetext(messages, j)\n",
    "mdc(s)\n",
    "mdc(\"\\n\\n\")\n",
    "mdc(\"I printed them in the order they are stored in the thread. \\\n",
    "The first Q&A is at the bottom and the last Q&A is at the top\\n\\n\")\n"
   ]
  },
  {
   "cell_type": "markdown",
   "metadata": {},
   "source": [
    "## `Run`s associated with this thread ##\n",
    "The above three pairs of messages (Q and A) are generated in three runs.  OpenAI creates a new `run` object everytime a question is posted.  These `run` objects are associated with the thread and can be tetrieved as I do below."
   ]
  },
  {
   "cell_type": "code",
   "execution_count": 13,
   "metadata": {},
   "outputs": [
    {
     "data": {
      "text/markdown": [
       "<span style='font-size: 14px;'>There are 3 runs in this thread.\n",
       "\n",
       "</span>"
      ],
      "text/plain": [
       "<IPython.core.display.Markdown object>"
      ]
     },
     "metadata": {},
     "output_type": "display_data"
    }
   ],
   "source": [
    "runs = Client.beta.threads.runs.list(Thread_ID)\n",
    "runs_list=list(runs)\n",
    "mdc(\"There are %d runs in this thread.\\n\\n\"%len(runs_list))"
   ]
  },
  {
   "cell_type": "markdown",
   "metadata": {},
   "source": [
    "Note that in order to count the number of runs, I convert `runs` to a `list`.  This would be too memory intensive if I had many runs but in this case it is no problem. The original `runs` object is of type `SyncCursorPage[Run]`. It is iterable but does not inherently have a length.\n",
    "\n",
    "I wrote a short script, `pr_objfields()`, which I will ise to dosplay the contents of the runs objects. "
   ]
  },
  {
   "cell_type": "markdown",
   "metadata": {},
   "source": [
    "### `run` object ###\n",
    "\n"
   ]
  },
  {
   "cell_type": "code",
   "execution_count": 14,
   "metadata": {},
   "outputs": [
    {
     "data": {
      "text/markdown": [
       "<span style='font-size: 14px;'>I will tabulate the fields of the three runs.  As you see below, the `run` object is quite simple.  I make the following observations:\n",
       "\n",
       "* The File IDs are the same that were attached to the Assistant and the same for all three runs.\n",
       "\n",
       "* `status` is complete for all three runs.  During the execution, we watch this field whilke waiting for the run to complete\n",
       "\n",
       "* The `assistant_id~ is the same as the one in the Playground screen\n",
       "\n",
       "* The `thread_id` is the same as the one in the Playground screen\n",
       "\n",
       "* The `model` is the same as the one in the Playground screen\n",
       "\n",
       "* Time stamps are the UNIX timestamps and present the number of seconds that have elapsed since January 1, 1970 (UTC).  I conver them to a normal time format.\n",
       "\n",
       "* `instructions` have the same content for all three runs.  It is the same as the instructions for the Assistant.\n",
       "\n",
       "</span>"
      ],
      "text/plain": [
       "<IPython.core.display.Markdown object>"
      ]
     },
     "metadata": {},
     "output_type": "display_data"
    },
    {
     "data": {
      "text/markdown": [
       "<span style='font-size: 14px;'>\n",
       "\n",
       "The questions and the answers do not appear in the run object.  They are in the messages object.\n",
       "\n",
       "</span>"
      ],
      "text/plain": [
       "<IPython.core.display.Markdown object>"
      ]
     },
     "metadata": {},
     "output_type": "display_data"
    },
    {
     "data": {
      "text/markdown": [
       "<span style='font-size: 14px;'>\n",
       "\n",
       "#### Run 0 ####\n",
       "\n",
       "</span>"
      ],
      "text/plain": [
       "<IPython.core.display.Markdown object>"
      ]
     },
     "metadata": {},
     "output_type": "display_data"
    },
    {
     "data": {
      "text/markdown": [
       "<span style='font-size: 14px;'>\n",
       "\n",
       "|Field|Value|\n",
       "|---|---|\n",
       "|id|run_F9wljGwD4VMTGv3mXgBwZTVi|\n",
       "|assistant_id|asst_LCdnKNcUtkxVg1aDoiQ9vHCX|\n",
       "|cancelled_at|2024-01-21 21:07:05|\n",
       "|completed_at|2024-01-19 17:20:47|\n",
       "|created_at|2024-01-19 17:20:30|\n",
       "|expires_at|None|\n",
       "|failed_at|None|\n",
       "|file_ids|['file-G44JGQWzbImx8y3dy1OAuVNe', 'file-T9igFxYMHEelpJr1C07YJgLa', 'file-wcNOIlA5IU5wb7h4hOosEblg']|\n",
       "|status|completed|\n",
       "instructions|You are a school teacher answering students questions about the course material provided to you in text files. If the  response is not in the text files, you can respond with 'I don't know'.|\n",
       "|last_error|None|\n",
       "|metadata|{}|\n",
       "|model|gpt-4-1106-preview|\n",
       "|object|thread.run|\n",
       "|required_action|None|\n",
       "started_at|2024-01-19 17:20:31|\n",
       "|status|completed|\n",
       "|thread_id|thread_nPbJmSWtwS4umNYBNqrkGoLy|\n",
       "|tools|[ToolAssistantToolsRetrieval(type='retrieval')]|\n",
       "|usage|{'prompt_tokens': 0, 'completion_tokens': 0, 'total_tokens': 0}|\n",
       "</span>"
      ],
      "text/plain": [
       "<IPython.core.display.Markdown object>"
      ]
     },
     "metadata": {},
     "output_type": "display_data"
    },
    {
     "data": {
      "text/markdown": [
       "<span style='font-size: 14px;'>\n",
       "\n",
       "</span>"
      ],
      "text/plain": [
       "<IPython.core.display.Markdown object>"
      ]
     },
     "metadata": {},
     "output_type": "display_data"
    },
    {
     "data": {
      "text/markdown": [
       "<span style='font-size: 14px;'>\n",
       "\n",
       "#### Run 1 ####\n",
       "\n",
       "</span>"
      ],
      "text/plain": [
       "<IPython.core.display.Markdown object>"
      ]
     },
     "metadata": {},
     "output_type": "display_data"
    },
    {
     "data": {
      "text/markdown": [
       "<span style='font-size: 14px;'>\n",
       "\n",
       "|Field|Value|\n",
       "|---|---|\n",
       "|id|run_Ld7XKFuNMbFNRCSNZ0lXbWFh|\n",
       "|assistant_id|asst_LCdnKNcUtkxVg1aDoiQ9vHCX|\n",
       "|cancelled_at|2024-01-21 21:07:05|\n",
       "|completed_at|2024-01-19 17:16:30|\n",
       "|created_at|2024-01-19 17:16:19|\n",
       "|expires_at|None|\n",
       "|failed_at|None|\n",
       "|file_ids|['file-G44JGQWzbImx8y3dy1OAuVNe', 'file-T9igFxYMHEelpJr1C07YJgLa', 'file-wcNOIlA5IU5wb7h4hOosEblg']|\n",
       "|status|completed|\n",
       "instructions|You are a school teacher answering students questions about the course material provided to you in text files. If the  response is not in the text files, you can respond with 'I don't know'.|\n",
       "|last_error|None|\n",
       "|metadata|{}|\n",
       "|model|gpt-4-1106-preview|\n",
       "|object|thread.run|\n",
       "|required_action|None|\n",
       "started_at|2024-01-19 17:16:19|\n",
       "|status|completed|\n",
       "|thread_id|thread_nPbJmSWtwS4umNYBNqrkGoLy|\n",
       "|tools|[ToolAssistantToolsRetrieval(type='retrieval')]|\n",
       "|usage|{'prompt_tokens': 0, 'completion_tokens': 0, 'total_tokens': 0}|\n",
       "</span>"
      ],
      "text/plain": [
       "<IPython.core.display.Markdown object>"
      ]
     },
     "metadata": {},
     "output_type": "display_data"
    },
    {
     "data": {
      "text/markdown": [
       "<span style='font-size: 14px;'>\n",
       "\n",
       "</span>"
      ],
      "text/plain": [
       "<IPython.core.display.Markdown object>"
      ]
     },
     "metadata": {},
     "output_type": "display_data"
    },
    {
     "data": {
      "text/markdown": [
       "<span style='font-size: 14px;'>\n",
       "\n",
       "#### Run 2 ####\n",
       "\n",
       "</span>"
      ],
      "text/plain": [
       "<IPython.core.display.Markdown object>"
      ]
     },
     "metadata": {},
     "output_type": "display_data"
    },
    {
     "data": {
      "text/markdown": [
       "<span style='font-size: 14px;'>\n",
       "\n",
       "|Field|Value|\n",
       "|---|---|\n",
       "|id|run_LGBgHiDIt5XXMhkDkA8zfPQI|\n",
       "|assistant_id|asst_LCdnKNcUtkxVg1aDoiQ9vHCX|\n",
       "|cancelled_at|2024-01-21 21:07:05|\n",
       "|completed_at|2024-01-19 17:13:58|\n",
       "|created_at|2024-01-19 17:13:40|\n",
       "|expires_at|None|\n",
       "|failed_at|None|\n",
       "|file_ids|['file-G44JGQWzbImx8y3dy1OAuVNe', 'file-T9igFxYMHEelpJr1C07YJgLa', 'file-wcNOIlA5IU5wb7h4hOosEblg']|\n",
       "|status|completed|\n",
       "instructions|You are a school teacher answering students questions about the course material provided to you in text files. If the  response is not in the text files, you can respond with 'I don't know'.|\n",
       "|last_error|None|\n",
       "|metadata|{}|\n",
       "|model|gpt-4-1106-preview|\n",
       "|object|thread.run|\n",
       "|required_action|None|\n",
       "started_at|2024-01-19 17:13:40|\n",
       "|status|completed|\n",
       "|thread_id|thread_nPbJmSWtwS4umNYBNqrkGoLy|\n",
       "|tools|[ToolAssistantToolsRetrieval(type='retrieval')]|\n",
       "|usage|{'prompt_tokens': 0, 'completion_tokens': 0, 'total_tokens': 0}|\n",
       "</span>"
      ],
      "text/plain": [
       "<IPython.core.display.Markdown object>"
      ]
     },
     "metadata": {},
     "output_type": "display_data"
    },
    {
     "data": {
      "text/markdown": [
       "<span style='font-size: 14px;'>\n",
       "\n",
       "</span>"
      ],
      "text/plain": [
       "<IPython.core.display.Markdown object>"
      ]
     },
     "metadata": {},
     "output_type": "display_data"
    }
   ],
   "source": [
    "\n",
    "# The following function tabulates the fields of the ith run in the thread\n",
    "def tabulate_run(i):\n",
    "    run=runs_list[i]\n",
    "    s=\"\\n\\n|Field|Value|\\n|---|---|\\n\"\n",
    "    s+=\"|id|%s|\\n\"%run.id\n",
    "    s+=\"|assistant_id|%s|\\n\"%run.assistant_id\n",
    "    s+=\"|cancelled_at|%s|\\n\"%ts2lt(run.cancelled_at)\n",
    "    s+=\"|completed_at|%s|\\n\"%ts2lt(run.completed_at)\n",
    "    s+=\"|created_at|%s|\\n\"%ts2lt(run.created_at)\n",
    "    s+=\"|expires_at|%s|\\n\"%run.expires_at\n",
    "    s+=\"|failed_at|%s|\\n\"%run.failed_at\n",
    "    s+=\"|file_ids|%s|\\n\"%run.file_ids\n",
    "    s+=\"|status|%s|\\n\"%run.status\n",
    "    s+=\"instructions|%s|\\n\"%run.instructions\n",
    "    s+=\"|last_error|%s|\\n\"%run.last_error\n",
    "    s+=\"|metadata|%s|\\n\"%run.metadata\n",
    "    s+=\"|model|%s|\\n\"%run.model\n",
    "    s+=\"|object|%s|\\n\"%run.object\n",
    "    s+=\"|required_action|%s|\\n\"%run.required_action\n",
    "    s+=\"started_at|%s|\\n\"%ts2lt(run.started_at)\n",
    "    s+=\"|status|%s|\\n\"%run.status\n",
    "    s+=\"|thread_id|%s|\\n\"%run.thread_id\n",
    "    s+=\"|tools|%s|\\n\"%run.tools\n",
    "    s+=\"|usage|%s|\\n\"%run.usage\n",
    "    #\n",
    "    mdc(s)\n",
    "    mdc(\"\\n\\n\")\n",
    "\n",
    "mdc(\"I will tabulate the fields of the three runs.  As you see below, the `run` object is \\\n",
    "quite simple.  I make the following observations:\\n\\n\\\n",
    "* The File IDs are the same that were attached to the Assistant and the same for all three runs.\\n\\n\\\n",
    "* `status` is complete for all three runs.  During the execution, we watch this field whilke waiting \\\n",
    "for the run to complete\\n\\n\\\n",
    "* The `assistant_id~ is the same as the one in the Playground screen\\n\\n\\\n",
    "* The `thread_id` is the same as the one in the Playground screen\\n\\n\\\n",
    "* The `model` is the same as the one in the Playground screen\\n\\n\\\n",
    "* Time stamps are the UNIX timestamps and present the number of seconds that have elapsed \\\n",
    "since January 1, 1970 (UTC).  I conver them to a normal time format.\\n\\n\\\n",
    "* `instructions` have the same content for all three runs.  It is the same as the instructions for the Assistant.\\n\\n\")\n",
    "#\n",
    "mdc(\"\\n\\nThe questions and the answers do not appear in the run object.  \\\n",
    "They are in the messages object.\\n\\n\")\n",
    "\n",
    "for i in range(len(runs_list)):\n",
    "    mdc(\"\\n\\n#### Run %d ####\\n\\n\"%i)\n",
    "    tabulate_run(i)"
   ]
  },
  {
   "cell_type": "code",
   "execution_count": 15,
   "metadata": {},
   "outputs": [
    {
     "data": {
      "text/markdown": [
       "<span style='font-size: 14px;'>**_client**: <openai.OpenAI object at 0x10bfc9b10></span>"
      ],
      "text/plain": [
       "<IPython.core.display.Markdown object>"
      ]
     },
     "metadata": {},
     "output_type": "display_data"
    },
    {
     "data": {
      "text/markdown": [
       "<span style='font-size: 14px;'>**messages**: <openai.resources.beta.threads.messages.messages.Messages object at 0x10c0ee550></span>"
      ],
      "text/plain": [
       "<IPython.core.display.Markdown object>"
      ]
     },
     "metadata": {},
     "output_type": "display_data"
    },
    {
     "data": {
      "text/markdown": [
       "<span style='font-size: 14px;'>**runs**: <openai.resources.beta.threads.runs.runs.Runs object at 0x10c0ede10></span>"
      ],
      "text/plain": [
       "<IPython.core.display.Markdown object>"
      ]
     },
     "metadata": {},
     "output_type": "display_data"
    },
    {
     "data": {
      "text/markdown": [
       "<span style='font-size: 14px;'>**with_raw_response**: <openai.resources.beta.threads.threads.ThreadsWithRawResponse object at 0x10bfcb750></span>"
      ],
      "text/plain": [
       "<IPython.core.display.Markdown object>"
      ]
     },
     "metadata": {},
     "output_type": "display_data"
    }
   ],
   "source": [
    "t = Client.beta.threads\n",
    "\n",
    "# Get all attributes and methods of the object\n",
    "attributes = dir(t)\n",
    "\n",
    "# Filter out the methods and special attributes (those starting with '__')\n",
    "fields = [attr for attr in attributes if not callable(getattr(t, attr)) and not attr.startswith('__')]\n",
    "\n",
    "# Print each field and its value\n",
    "for field in fields:\n",
    "    mdc(f\"**{field}**: {getattr(t, field)}\")\n"
   ]
  }
 ],
 "metadata": {
  "kernelspec": {
   "display_name": ".venv",
   "language": "python",
   "name": "python3"
  },
  "language_info": {
   "codemirror_mode": {
    "name": "ipython",
    "version": 3
   },
   "file_extension": ".py",
   "mimetype": "text/x-python",
   "name": "python",
   "nbconvert_exporter": "python",
   "pygments_lexer": "ipython3",
   "version": "3.11.1"
  }
 },
 "nbformat": 4,
 "nbformat_minor": 2
}
